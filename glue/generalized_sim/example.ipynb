{
 "cells": [
  {
   "cell_type": "code",
   "execution_count": 1,
   "id": "04f4e3a0-3b73-4af8-a13b-dfb6734338a3",
   "metadata": {},
   "outputs": [],
   "source": [
    "%load_ext autoreload\n",
    "%autoreload 2"
   ]
  },
  {
   "cell_type": "code",
   "execution_count": 2,
   "id": "b09d4bf6-e7e5-45cd-9e0d-649a829f4d14",
   "metadata": {},
   "outputs": [],
   "source": [
    "from math import prod, sqrt\n",
    "\n",
    "import numpy as np\n",
    "from circuits import generate_circuit_cn, generate_circuit_measure_all\n",
    "from panqec.codes import Color666PlanarCode\n",
    "\n",
    "from pauli_sum import PauliSum, X, Z\n",
    "from general_tableau import GeneralTableau\n",
    "from utils import str_to_bsf, stringify\n",
    "from logger import Logger"
   ]
  },
  {
   "cell_type": "code",
   "execution_count": null,
   "id": "d1c55fda-5fed-448f-8d8e-15b8239088a3",
   "metadata": {},
   "outputs": [],
   "source": [
    "circuit = generate_circuit_cn(Color666PlanarCode(1), n_rounds=3, p_phys=0.1, p_meas=0.1)\n",
    "logger = Logger('log.txt', stdout_print=False)\n",
    "\n",
    "for i in range(10):\n",
    "    logger = Logger('log.txt', stdout_print=False)\n",
    "    tab = GeneralTableau(16, logger=logger)\n",
    "    result = tab.run_circuit(circuit)"
   ]
  }
 ],
 "metadata": {
  "kernelspec": {
   "display_name": "Python 3 (ipykernel)",
   "language": "python",
   "name": "python3"
  },
  "language_info": {
   "codemirror_mode": {
    "name": "ipython",
    "version": 3
   },
   "file_extension": ".py",
   "mimetype": "text/x-python",
   "name": "python",
   "nbconvert_exporter": "python",
   "pygments_lexer": "ipython3",
   "version": "3.12.9"
  }
 },
 "nbformat": 4,
 "nbformat_minor": 5
}
