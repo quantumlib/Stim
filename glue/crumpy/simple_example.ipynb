{
 "cells": [
  {
   "cell_type": "code",
   "execution_count": 1,
   "id": "6eb5b8eb-0dbe-4517-8935-30ced98c7eb5",
   "metadata": {
    "execution": {
     "iopub.execute_input": "2025-09-25T00:30:26.471400Z",
     "iopub.status.busy": "2025-09-25T00:30:26.471260Z",
     "iopub.status.idle": "2025-09-25T00:30:27.728413Z",
     "shell.execute_reply": "2025-09-25T00:30:27.728194Z",
     "shell.execute_reply.started": "2025-09-25T00:30:26.471386Z"
    }
   },
   "outputs": [
    {
     "data": {
      "application/vnd.jupyter.widget-view+json": {
       "model_id": "8791a3107353463b8790a9001b2a083b",
       "version_major": 2,
       "version_minor": 1
      },
      "text/plain": [
       "CircuitWidget(stim='\\nH 0\\nCNOT 0 1\\n')"
      ]
     },
     "execution_count": 1,
     "metadata": {},
     "output_type": "execute_result"
    }
   ],
   "source": [
    "from crumpy import CircuitWidget\n",
    "\n",
    "your_circuit = \"\"\"\n",
    "H 0\n",
    "CNOT 0 1\n",
    "\"\"\"\n",
    "\n",
    "circuit = CircuitWidget(stim=your_circuit)\n",
    "circuit"
   ]
  },
  {
   "cell_type": "code",
   "execution_count": 2,
   "id": "f3ceb663-3dbf-44dd-aecb-a18bd0198ba7",
   "metadata": {
    "execution": {
     "iopub.execute_input": "2025-09-25T00:30:27.728812Z",
     "iopub.status.busy": "2025-09-25T00:30:27.728677Z",
     "iopub.status.idle": "2025-09-25T00:30:27.732068Z",
     "shell.execute_reply": "2025-09-25T00:30:27.731827Z",
     "shell.execute_reply.started": "2025-09-25T00:30:27.728805Z"
    }
   },
   "outputs": [
    {
     "data": {
      "application/vnd.jupyter.widget-view+json": {
       "model_id": "7677ee648e74420788ace92e7962e38a",
       "version_major": 2,
       "version_minor": 1
      },
      "text/plain": [
       "CircuitWidget(indentCircuitLines=False, stim='\\n#!pragma MARKX(0) 0\\nTICK\\nCNOT 0 1\\nTICK\\nH 0\\n')"
      ]
     },
     "execution_count": 2,
     "metadata": {},
     "output_type": "execute_result"
    }
   ],
   "source": [
    "circuit_with_error = \"\"\"\n",
    "#!pragma MARKX(0) 0\n",
    "TICK\n",
    "CNOT 0 1\n",
    "TICK\n",
    "H 0\n",
    "\"\"\"\n",
    "\n",
    "w = CircuitWidget(stim=circuit_with_error)\n",
    "w.indentCircuitLines = False\n",
    "w"
   ]
  },
  {
   "cell_type": "code",
   "execution_count": null,
   "id": "5f106c05-0a51-410f-a3cc-d1c7af3277b7",
   "metadata": {},
   "outputs": [],
   "source": []
  }
 ],
 "metadata": {
  "kernelspec": {
   "display_name": "Python 3 (ipykernel)",
   "language": "python",
   "name": "python3"
  },
  "language_info": {
   "codemirror_mode": {
    "name": "ipython",
    "version": 3
   },
   "file_extension": ".py",
   "mimetype": "text/x-python",
   "name": "python",
   "nbconvert_exporter": "python",
   "pygments_lexer": "ipython3",
   "version": "3.13.3"
  }
 },
 "nbformat": 4,
 "nbformat_minor": 5
}
