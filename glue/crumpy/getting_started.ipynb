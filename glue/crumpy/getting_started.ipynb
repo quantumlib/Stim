{
 "cells": [
  {
   "cell_type": "markdown",
   "id": "0b6e4d5e-f8ab-4946-b950-65f909893b10",
   "metadata": {},
   "source": [
    "# Getting Started with CrumPy"
   ]
  },
  {
   "cell_type": "markdown",
   "id": "514ab571-4824-4b1f-8c05-5c1b341403e2",
   "metadata": {},
   "source": [
    "To start, install the `crumpy` package:"
   ]
  },
  {
   "cell_type": "code",
   "execution_count": null,
   "id": "7bd1bebe-37cb-400f-88f9-0db8b2934c15",
   "metadata": {},
   "outputs": [],
   "source": [
    "%pip install crumpy"
   ]
  },
  {
   "cell_type": "markdown",
   "id": "3368a263-ff20-4cea-a758-e8310dbe98a5",
   "metadata": {},
   "source": [
    "### Required Imports"
   ]
  },
  {
   "cell_type": "code",
   "execution_count": null,
   "id": "b6ef6cbe-0611-489c-915f-f3fc42514dd5",
   "metadata": {},
   "outputs": [],
   "source": [
    "from crumpy import CircuitWidget\n",
    "\n",
    "import stim\n",
    "import ipywidgets\n",
    "import cirq\n",
    "import qiskit"
   ]
  },
  {
   "cell_type": "markdown",
   "id": "947f9453-24b5-4a7f-9d18-2553730bc42c",
   "metadata": {},
   "source": [
    "## Background: Crumble"
   ]
  },
  {
   "cell_type": "markdown",
   "id": "935f5eb6-68f8-4db8-82e3-fe1fa44e055e",
   "metadata": {},
   "source": [
    "The goal of CrumPy's `CircuitWidget` is to utilize the visualization features of Crumble ([website](https://algassert.com/crumble), [docs](https://github.com/quantumlib/Stim/blob/main/glue/crumble/README.md)), a stabilizer circuit editor and sub-project of the open-source stabilizer circuit project [Stim](https://github.com/quantumlib/Stim), to provide a convenient way to display quantum circuit timelines with Pauli propagation in a Jupyter notebook. In particular, CrumPy takes advantage of Crumble's existing ability to generate circuit timeline visualizations from [Stim circuit specifications](https://github.com/quantumlib/Stim/blob/main/doc/file_format_stim_circuit.md#the-stim-circuit-file-format-stim), which also includes support for Pauli propagation markers.\n",
    "\n",
    "If you aren't familiar with Crumble, try experimenting with building a circuit from scratch, adding Paulis, or check out some of Crumble's <a href=\"https://algassert.com/crumble#circuit=Q(0,2)0;Q(0,4)1;Q(0.5,0.5)2;Q(0.5,1.5)3;Q(0.5,2.5)4;Q(0.5,3.5)5;Q(0.5,4.5)6;Q(1,0)7;Q(1,1)8;Q(1,2)9;Q(1,3)10;Q(1,4)11;Q(1.5,0.5)12;Q(1.5,1.5)13;Q(1.5,2.5)14;Q(1.5,3.5)15;Q(1.5,4.5)16;Q(2,1)17;Q(2,2)18;Q(2,3)19;Q(2,4)20;Q(2,5)21;Q(2.5,0.5)22;Q(2.5,1.5)23;Q(2.5,2.5)24;Q(2.5,3.5)25;Q(2.5,4.5)26;Q(3,0)27;Q(3,1)28;Q(3,2)29;Q(3,3)30;Q(3,4)31;Q(3.5,0.5)32;Q(3.5,1.5)33;Q(3.5,2.5)34;Q(3.5,3.5)35;Q(3.5,4.5)36;Q(4,1)37;Q(4,2)38;Q(4,3)39;Q(4,4)40;Q(4,5)41;Q(4.5,0.5)42;Q(4.5,1.5)43;Q(4.5,2.5)44;Q(4.5,3.5)45;Q(4.5,4.5)46;Q(5,1)47;Q(5,3)48;POLYGON(0,0,1,0.25)12_22_23_13;POLYGON(0,0,1,0.25)3_13_14_4;POLYGON(0,0,1,0.25)14_24_25_15;POLYGON(0,0,1,0.25)5_15_16_6;POLYGON(0,0,1,0.25)34_44_45_35;POLYGON(0,0,1,0.25)25_35_36_26;POLYGON(0,0,1,0.25)32_42_43_33;POLYGON(0,0,1,0.25)23_33_34_24;POLYGON(0,0,1,0.25)12_2;POLYGON(0,0,1,0.25)32_22;POLYGON(0,0,1,0.25)46_36;POLYGON(0,0,1,0.25)26_16;POLYGON(1,0,0,0.25)2_12_13_3;POLYGON(1,0,0,0.25)13_23_24_14;POLYGON(1,0,0,0.25)4_14_15_5;POLYGON(1,0,0,0.25)15_25_26_16;POLYGON(1,0,0,0.25)24_34_35_25;POLYGON(1,0,0,0.25)35_45_46_36;POLYGON(1,0,0,0.25)22_32_33_23;POLYGON(1,0,0,0.25)33_43_44_34;POLYGON(1,0,0,0.25)42_43;POLYGON(1,0,0,0.25)44_45;POLYGON(1,0,0,0.25)5_6;POLYGON(1,0,0,0.25)3_4;TICK;R_2_3_4_5_6_12_13_14_15_16_22_23_24_25_26_32_33_34_35_36_42_43_44_45_46;MARKZ(0)2_3_4_5_6;TICK;R_9_11_17_19_21_29_31_37_39_41_27_7;RX_8_10_18_20_28_30_38_40_47_48_0_1;MARKX(1)28;TICK;CX_8_2_3_9_10_4_5_11_12_17_18_13_14_19_20_15_16_21_28_22_23_29_30_24_25_31_32_37_38_33_34_39_40_35_36_41_47_42_48_44;TICK;CX_13_9_15_11_22_17_24_19_26_21_33_29_35_31_42_37_44_39_46_41_8_3_10_5_18_14_20_16_28_23_30_25_38_34_40_36_47_43_48_45;TICK;CX_4_9_6_11_13_17_15_19_24_29_26_31_33_37_35_39_2_7_22_27_8_12_10_14_1_5_0_3_18_23_20_25_28_32_30_34_38_43_40_45;TICK;CX_8_13_14_9_10_15_16_11_23_17_18_24_25_19_20_26_28_33_34_29_30_35_36_31_43_37_38_44_45_39_40_46_0_4_1_6_12_7_32_27;TICK;M_9_11_17_19_21_29_31_37_39_41_27_7;MX_8_10_18_20_28_30_38_40_47_48_0_1;MARKX(1)28;DT(1,2,0)rec[-24];DT(1,4,0)rec[-23];DT(2,1,0)rec[-22];DT(2,3,0)rec[-21];DT(2,5,0)rec[-20];DT(3,2,0)rec[-19];DT(3,4,0)rec[-18];DT(4,1,0)rec[-17];DT(4,3,0)rec[-16];DT(4,5,0)rec[-15];DT(3,0,0)rec[-14];DT(1,0,0)rec[-13];TICK;R_9_11_17_19_21_29_31_37_39_41_7_27;RX_8_10_18_20_28_30_38_40_47_48_1_0;MARKX(1)28;MARKZ(2)29;TICK;CX_8_2_3_9_10_4_5_11_12_17_18_13_14_19_20_15_16_21_28_22_23_29_30_24_25_31_32_37_38_33_34_39_40_35_36_41_47_42_48_44;TICK;CX_13_9_15_11_22_17_24_19_26_21_33_29_35_31_42_37_44_39_46_41_8_3_10_5_18_14_20_16_28_23_30_25_38_34_40_36_47_43_48_45;TICK;CX_4_9_6_11_13_17_15_19_24_29_26_31_33_37_35_39_2_7_22_27_8_12_10_14_1_5_0_3_18_23_20_25_28_32_30_34_38_43_40_45;TICK;CX_8_13_14_9_10_15_16_11_23_17_18_24_25_19_20_26_28_33_34_29_30_35_36_31_43_37_38_44_45_39_40_46_0_4_1_6_12_7_32_27;TICK;M_9_11_17_19_21_29_31_37_39_41_7_27;MX_8_10_18_20_28_30_38_40_47_48_0_1;MARKX(1)28;MARKZ(2)29;DT(1,2,1)rec[-24]_rec[-48];DT(1,4,1)rec[-23]_rec[-47];DT(2,1,1)rec[-22]_rec[-46];DT(2,3,1)rec[-21]_rec[-45];DT(2,5,1)rec[-20]_rec[-44];DT(3,2,1)rec[-19]_rec[-43];DT(3,4,1)rec[-18]_rec[-42];DT(4,1,1)rec[-17]_rec[-41];DT(4,3,1)rec[-16]_rec[-40];DT(4,5,1)rec[-15]_rec[-39];DT(1,0,1)rec[-14]_rec[-37];DT(3,0,1)rec[-13]_rec[-38];DT(1,1,1)rec[-12]_rec[-36];DT(1,3,1)rec[-11]_rec[-35];DT(2,2,1)rec[-10]_rec[-34];DT(2,4,1)rec[-9]_rec[-33];DT(3,1,1)rec[-8]_rec[-32];DT(3,3,1)rec[-7]_rec[-31];DT(4,2,1)rec[-6]_rec[-30];DT(4,4,1)rec[-5]_rec[-29];DT(5,1,1)rec[-4]_rec[-28];DT(5,3,1)rec[-3]_rec[-27];DT(0,2,1)rec[-2]_rec[-26];DT(0,4,1)rec[-1]_rec[-25];TICK;R_9_11_17_19_21_29_31_37_39_41_7_27;RX_8_10_18_20_28_30_38_40_47_48_0_1;MARKZ(2)29;TICK;CX_8_2_3_9_10_4_5_11_12_17_18_13_14_19_20_15_16_21_28_22_23_29_30_24_25_31_32_37_38_33_34_39_40_35_36_41_47_42_48_44;TICK;CX_13_9_15_11_22_17_24_19_26_21_33_29_35_31_42_37_44_39_46_41_8_3_10_5_18_14_20_16_28_23_30_25_38_34_40_36_47_43_48_45;TICK;CX_4_9_6_11_13_17_15_19_24_29_26_31_33_37_35_39_2_7_22_27_8_12_10_14_1_5_0_3_18_23_20_25_28_32_30_34_38_43_40_45;TICK;CX_8_13_14_9_10_15_16_11_23_17_18_24_25_19_20_26_28_33_34_29_30_35_36_31_43_37_38_44_45_39_40_46_0_4_1_6_12_7_32_27;TICK;M_9_11_17_19_21_29_31_37_39_41_7_27;MX_8_10_18_20_28_30_38_40_47_48_0_1;MARKZ(2)29;DT(1,2,2)rec[-24]_rec[-48];DT(1,4,2)rec[-23]_rec[-47];DT(2,1,2)rec[-22]_rec[-46];DT(2,3,2)rec[-21]_rec[-45];DT(2,5,2)rec[-20]_rec[-44];DT(3,2,2)rec[-19]_rec[-43];DT(3,4,2)rec[-18]_rec[-42];DT(4,1,2)rec[-17]_rec[-41];DT(4,3,2)rec[-16]_rec[-40];DT(4,5,2)rec[-15]_rec[-39];DT(1,0,2)rec[-14]_rec[-38];DT(3,0,2)rec[-13]_rec[-37];DT(1,1,2)rec[-12]_rec[-36];DT(1,3,2)rec[-11]_rec[-35];DT(2,2,2)rec[-10]_rec[-34];DT(2,4,2)rec[-9]_rec[-33];DT(3,1,2)rec[-8]_rec[-32];DT(3,3,2)rec[-7]_rec[-31];DT(4,2,2)rec[-6]_rec[-30];DT(4,4,2)rec[-5]_rec[-29];DT(5,1,2)rec[-4]_rec[-28];DT(5,3,2)rec[-3]_rec[-27];DT(0,2,2)rec[-2]_rec[-26];DT(0,4,2)rec[-1]_rec[-25];TICK;M_2_3_4_5_6_12_13_14_15_16_22_23_24_25_26_32_33_34_35_36_42_43_44_45_46;MARKZ(0)2_3_4_5_6;DT(1,0,3)rec[-20]_rec[-25]_rec[-39];DT(1,2,3)rec[-18]_rec[-19]_rec[-23]_rec[-24]_rec[-49];DT(1,4,3)rec[-16]_rec[-17]_rec[-21]_rec[-22]_rec[-48];DT(2,1,3)rec[-14]_rec[-15]_rec[-19]_rec[-20]_rec[-47];DT(2,3,3)rec[-12]_rec[-13]_rec[-17]_rec[-18]_rec[-46];DT(2,5,3)rec[-11]_rec[-16]_rec[-45];DT(3,0,3)rec[-10]_rec[-15]_rec[-38];DT(3,2,3)rec[-8]_rec[-9]_rec[-13]_rec[-14]_rec[-44];DT(3,4,3)rec[-6]_rec[-7]_rec[-11]_rec[-12]_rec[-43];DT(4,1,3)rec[-4]_rec[-5]_rec[-9]_rec[-10]_rec[-42];DT(4,3,3)rec[-2]_rec[-3]_rec[-7]_rec[-8]_rec[-41];DT(4,5,3)rec[-1]_rec[-6]_rec[-40];OI(0)rec[-21]_rec[-22]_rec[-23]_rec[-24]_rec[-25]\">example circuits</a>.\n",
    "\n",
    "The logic behind Crumble's Stim import textbox (shown on click of the **Show Import/Export** button in Crumble) provides the basis of CrumPy's circuit importing abilities. Try playing around with importing/exporting circuits to get familiar with the notation and instructions supported by Crumble and CrumPy."
   ]
  },
  {
   "cell_type": "markdown",
   "id": "099667d8-35a0-4ec1-80b9-76f9b5bf7755",
   "metadata": {},
   "source": [
    "### Crumble ↔ CrumPy"
   ]
  },
  {
   "cell_type": "markdown",
   "id": "166a21e3-ebd9-4ce2-8381-cf2cc56b2551",
   "metadata": {},
   "source": [
    "CrumPy uses the circuit compilation logic from Crumble, ensuring that circuits in Crumble and CrumPy are compatible with one another. Note that this means CrumPy supports Crumble-specific instructions not present in standard Stim circuit specification, like `MARKX` and `POLYGON`. This makes the transfer of a Crumble circuit to CrumPy and vice versa fairly straightforward:\n",
    "\n",
    "If you've already built a circuit in Crumble that you wish to display using CrumPy:\n",
    "\n",
    "- (in Crumble) Click **Show Import/Export → Export to Stim Circuit**\n",
    "- Copy the Stim output from the textarea\n",
    "- (in Python/notebook) Paste the output into the content of a Python string\n",
    "- Use your circuit string with `CircuitWidget`!\n",
    "\n",
    "Going from CrumPy to Crumble:\n",
    "\n",
    "- (in Python/notebook) Copy your circuit string (tip: try copying the output of `print(your_circuit.stim)`)\n",
    "- (in Crumble) Click **Show Import/Export**\n",
    "- Paste your circuit into the textarea\n",
    "- Click **Import from Stim Circuit** to see your circuit!"
   ]
  },
  {
   "cell_type": "markdown",
   "id": "174429da",
   "metadata": {},
   "source": [
    "## Using `CircuitWidget`"
   ]
  },
  {
   "cell_type": "markdown",
   "id": "2acc809d-734e-477c-9f11-8915ca70419e",
   "metadata": {},
   "source": [
    "At the core of `crumpy` is the `CircuitWidget`. To get started with `CircuitWidget`, import it from the `crumpy` package:"
   ]
  },
  {
   "cell_type": "code",
   "execution_count": null,
   "id": "9327d695",
   "metadata": {},
   "outputs": [],
   "source": [
    "from crumpy import CircuitWidget"
   ]
  },
  {
   "cell_type": "markdown",
   "id": "d208dec4",
   "metadata": {},
   "source": [
    "### Basic Usage"
   ]
  },
  {
   "cell_type": "markdown",
   "id": "d0d90c8d",
   "metadata": {},
   "source": [
    "`CircuitWidget` takes a [Stim circuit specification](https://github.com/quantumlib/Stim/blob/main/doc/file_format_stim_circuit.md#the-stim-circuit-file-format-stim) in the form of a Python string:"
   ]
  },
  {
   "cell_type": "code",
   "execution_count": null,
   "id": "67b624dc",
   "metadata": {},
   "outputs": [],
   "source": [
    "stim_circuit = \"\"\"\n",
    "H 0\n",
    "CNOT 0 2\n",
    "SWAP 0 1\n",
    "M 1\n",
    "\"\"\"\n",
    "\n",
    "widg = CircuitWidget(stim=stim_circuit)\n",
    "widg"
   ]
  },
  {
   "cell_type": "markdown",
   "id": "39dc6881-aaf6-4f69-be3c-6341c7a334d4",
   "metadata": {},
   "source": [
    "It's also possible to update the circuit of an existing `CircuitWidget`. Running the cell below will update the output of the previous cell to reflect the new circuit:"
   ]
  },
  {
   "cell_type": "code",
   "execution_count": null,
   "id": "10b0d536-de9d-4612-9303-5cef57834b63",
   "metadata": {},
   "outputs": [],
   "source": [
    "new_circuit = \"\"\"\n",
    "CX 0 2\n",
    "TICK\n",
    "CY 1 2\n",
    "TICK\n",
    "CZ 0 1\n",
    "\"\"\"\n",
    "\n",
    "widg.stim = new_circuit"
   ]
  },
  {
   "cell_type": "markdown",
   "id": "decdab71-dfae-4eed-b4f4-7124ab66bd32",
   "metadata": {},
   "source": [
    "`CircuitWidget` also has configuration options that change the appearance of the circuit. Notice again how the above output is updated:"
   ]
  },
  {
   "cell_type": "code",
   "execution_count": null,
   "id": "9d45348e-464a-408e-8145-6c0302920570",
   "metadata": {},
   "outputs": [],
   "source": [
    "widg.curveConnectors = False\n",
    "widg.indentCircuitLines = False\n",
    "\n",
    "# Can also specify within CircuitWidget constructor, e.g.:\n",
    "# CircuitWidget(stim=..., curveConnectors=False)"
   ]
  },
  {
   "cell_type": "markdown",
   "id": "1752292c-621d-4b47-bddb-208cd1659766",
   "metadata": {},
   "source": [
    "### Propagating Paulis"
   ]
  },
  {
   "cell_type": "markdown",
   "id": "c8e499f0-82a4-44a8-804d-c6f9c0ebfb09",
   "metadata": {},
   "source": [
    "A useful feature of Crumble (and CrumPy) is the ability to propagate Paulis through a quantum circuit. From the [Crumble docs](https://github.com/quantumlib/Stim/tree/main/glue/crumble#readme):\n",
    "\n",
    "> Propagating Paulis is done by placing markers to indicate where to add terms.\n",
    "> Each marker has a type (X, Y, or Z) and an index (0-9) indicating which\n",
    "> indexed Pauli product the marker is modifying.\n",
    "\n",
    "Define a Pauli X, Y, or Z marker with the `#!pragma MARK_` instruction:\n"
   ]
  },
  {
   "cell_type": "code",
   "execution_count": null,
   "id": "966e029a-8f8d-4ebe-a8aa-4c6bdc6235e0",
   "metadata": {},
   "outputs": [],
   "source": [
    "x_error_on_qubit_3 = \"#!pragma MARKX(0) 3\"\n",
    "z_error_on_qubit_2 = \"MARKZ(0) 2\"  # Valid for use with CrumPy, but not with stim.Circuit - see below"
   ]
  },
  {
   "cell_type": "markdown",
   "id": "850b70b0-aaec-4686-b545-be839437cee1",
   "metadata": {},
   "source": [
    "#### Legend\n",
    "\n",
    "<img src=\"https://i.imgur.com/XphzpNf.png\"\n",
    "alt=\"red Pauli X, green Pauli Y, blue Pauli Z markers\"\n",
    "width=200   \n",
    "/>\n",
    "\n",
    "#### Example: `MARKX` Propagation"
   ]
  },
  {
   "cell_type": "code",
   "execution_count": null,
   "id": "8687d89f-0d39-4d75-928d-3a8d97d95560",
   "metadata": {},
   "outputs": [],
   "source": [
    "circuit_with_mark = \"\"\"\n",
    "#!pragma MARKX(0) 0\n",
    "TICK\n",
    "CNOT 0 1\n",
    "TICK\n",
    "H 0\n",
    "\"\"\"\n",
    "\n",
    "CircuitWidget(stim=circuit_with_mark)"
   ]
  },
  {
   "cell_type": "markdown",
   "id": "28643b60-9849-4953-9fd5-b3d43492c186",
   "metadata": {},
   "source": [
    "Notice how the red Pauli X marker defined on qubit 0 propagates through the CNOT, resulting in X markers on both qubits. Then, when the X marker on qubit 0 encounters the H gate, it is converted into a blue Pauli Z marker. This propagation is done automatically based on the provided circuit and `MARKX`."
   ]
  },
  {
   "cell_type": "markdown",
   "id": "69b94d4a-4cbb-4ef6-9309-c224524f8da2",
   "metadata": {},
   "source": [
    "#### Note: `stim.Circuit` Compatibility"
   ]
  },
  {
   "cell_type": "markdown",
   "id": "249d48d0-2e2f-444f-8657-8eb982f7e3d4",
   "metadata": {},
   "source": [
    "Some instructions used in Crumble (and therefore CrumPy) are not considered standard Stim notation. This includes `MARK_`, `POLYGON`, and `ERR` instructions.\n",
    "\n",
    "For example, consider the circuit specification below which omits the '`#!pragma `' preceding its `MARKZ` instruction. Attempting to create a `stim.Circuit` will cause an error:"
   ]
  },
  {
   "cell_type": "code",
   "execution_count": null,
   "id": "2057492f-74f1-4d5d-99fd-70a7a6a3f76c",
   "metadata": {},
   "outputs": [],
   "source": [
    "no_pragma = \"\"\"\n",
    "MARKZ(0) 0\n",
    "Y 1\n",
    "TICK\n",
    "CZ 0 1\n",
    "\"\"\"\n",
    "\n",
    "try:\n",
    "    stim.Circuit(no_pragma)\n",
    "except ValueError as e:\n",
    "    print(e)"
   ]
  },
  {
   "cell_type": "markdown",
   "id": "99c24004-d730-4973-87f2-a0abbfb3343b",
   "metadata": {},
   "source": [
    "Including the '`#!pragma `' avoids this issue. The `MARKZ` instruction will not show up in a `stim.Circuit` (the '`#`' in '`#!pragma `' comments out the line):"
   ]
  },
  {
   "cell_type": "code",
   "execution_count": null,
   "id": "ba1f46f9-41d1-47e0-9985-2914820ef998",
   "metadata": {},
   "outputs": [],
   "source": [
    "with_pragma = \"\"\"\n",
    "#!pragma MARKZ(0) 0\n",
    "Y 1\n",
    "TICK\n",
    "CZ 0 1\n",
    "\"\"\"\n",
    "\n",
    "ok_circuit = stim.Circuit(with_pragma)\n",
    "ok_circuit"
   ]
  },
  {
   "cell_type": "markdown",
   "id": "3693989e-45de-419a-9450-fd112a5166bb",
   "metadata": {},
   "source": [
    "Even though there is no `MARKZ`, we now have a valid `stim.Circuit` which can easily be used with `CircuitWidget`:"
   ]
  },
  {
   "cell_type": "code",
   "execution_count": null,
   "id": "caa00306-bb17-4d7d-8f6b-d5cfaa117bad",
   "metadata": {},
   "outputs": [],
   "source": [
    "CircuitWidget(stim=str(ok_circuit))"
   ]
  },
  {
   "cell_type": "markdown",
   "id": "d1793d4c",
   "metadata": {},
   "source": [
    "### Composing with Other Widgets"
   ]
  },
  {
   "cell_type": "markdown",
   "id": "738b5d9f-db4e-401e-be58-f2810c7b97ac",
   "metadata": {},
   "source": [
    "The ability to programmatically update a `CircuitWidget`'s `stim` attribute (also its config options) provides an opportunity for more advanced interaction with the circuit visualization. In particular, we can utilize existing widgets from the `ipywidgets` package to create more interactive experiences.\n",
    "\n",
    "The `traitlets` package used behind the scenes of both `CircuitWidget` and the widgets of `ipywidgets` allows for the composition of multiple widgets through functions like `link` and `dlink`. See the `ipywidgets` [documentation](https://ipywidgets.readthedocs.io/en/latest/examples/Widget%20Events.html#linking-widgets) for more advanced uses."
   ]
  },
  {
   "cell_type": "markdown",
   "id": "d3f8883a-12d8-4594-aec3-e7b98873ebe2",
   "metadata": {},
   "source": [
    "#### Example: `IntSlider` and `dlink`"
   ]
  },
  {
   "cell_type": "markdown",
   "id": "92016efe-eb20-4947-bf40-44c59e42416a",
   "metadata": {},
   "source": [
    "In this example, an `IntSlider` widget is used in conjunction with a `CircuitWidget` to update the displayed circuit based on the slider's value. The `ipywidget.dlink` function is used to **d**irectionally **link** the slider's `value` to the circuit's `stim` (i.e. updates to the slider's `value` will update the circuit's `stim`). Here we can use the slider to see how a Pauli X marker acts when faced with consecutive H gates:"
   ]
  },
  {
   "cell_type": "code",
   "execution_count": null,
   "id": "df1b4aee",
   "metadata": {},
   "outputs": [],
   "source": [
    "def sliderToCircuit(slider_val):\n",
    "    base_circuit = \"\"\"\n",
    "    #!pragma MARKX(0) 0\n",
    "    TICK\n",
    "    CX 0 1\n",
    "    \"\"\"\n",
    "    return base_circuit + \"H 0\\n\" * slider_val\n",
    "\n",
    "circuit = CircuitWidget()\n",
    "slider = ipywidgets.IntSlider(description=\"# of H gates\", value=1, min=0, max=10)\n",
    "\n",
    "ipywidgets.dlink((slider, \"value\"), (circuit, \"stim\"), sliderToCircuit)\n",
    "\n",
    "display(slider, circuit)"
   ]
  },
  {
   "cell_type": "markdown",
   "id": "ed2c23e0",
   "metadata": {},
   "source": [
    "### Converting Directly from a Circuit (`stim`, `cirq`, `qiskit`)"
   ]
  },
  {
   "cell_type": "markdown",
   "id": "ed4ffb4e",
   "metadata": {},
   "source": [
    "CrumPy provides helper methods for creating a `CircuitWidget` directly from 3 popular quantum circuit packages: `stim`, `cirq`, and `qiskit`.\n",
    "\n",
    "Even if `stim` isn't your quantum circuit package of choice, it may still be possible to utilize CrumPy. Circuits from packages like `cirq` or `qiskit` may be convertible to a `stim` circuit. For circuit languages that don't have an existing transpiler that converts directly to Stim, it may also be possible to convert to [OpenQASM](https://en.wikipedia.org/wiki/OpenQASM), which can be [converted to Cirq](https://quantumai.google/cirq/build/interop#importing_from_openqasm) and finally [converted to Stim](https://github.com/quantumlib/Stim/tree/main/glue/cirq#readme).\n",
    "\n",
    "Note that it may not always be possible to convert a circuit between formats (notably, `stim` has a [limited gate set](https://github.com/quantumlib/Stim/tree/main?tab=readme-ov-file#what-is-stim:~:text=There%20is%20no%20support%20for%20non%2DClifford%20operations%2C%20such%20as%20T%20gates%20and%20Toffoli%20gates.%20Only%20stabilizer%20operations%20are%20supported.)).\n",
    "\n"
   ]
  },
  {
   "cell_type": "markdown",
   "id": "b4dd3937",
   "metadata": {},
   "source": [
    "#### Examples"
   ]
  },
  {
   "cell_type": "markdown",
   "id": "30d3991d",
   "metadata": {},
   "source": [
    "`CircuitWidget.from_stim`"
   ]
  },
  {
   "cell_type": "code",
   "execution_count": null,
   "id": "25852a22",
   "metadata": {},
   "outputs": [],
   "source": [
    "stim_circuit = stim.Circuit(\"\"\"\n",
    "H 0\n",
    "CX 0 1\n",
    "M 0 1\n",
    "\"\"\")\n",
    "\n",
    "CircuitWidget.from_stim(stim_circuit)"
   ]
  },
  {
   "cell_type": "markdown",
   "id": "d2ee059f",
   "metadata": {},
   "source": [
    "`CircuitWidget.from_cirq`"
   ]
  },
  {
   "cell_type": "code",
   "execution_count": null,
   "id": "0649f636",
   "metadata": {},
   "outputs": [],
   "source": [
    "q0 = cirq.LineQubit(0)\n",
    "q1 = cirq.LineQubit(1)\n",
    "cirq_circuit = cirq.Circuit(cirq.H(q0), cirq.CNOT(q0, q1), cirq.measure(q0, q1))\n",
    "\n",
    "CircuitWidget.from_cirq(cirq_circuit)"
   ]
  },
  {
   "cell_type": "markdown",
   "id": "ff13af42",
   "metadata": {},
   "source": [
    "`CircuitWidget.from_qiskit`"
   ]
  },
  {
   "cell_type": "code",
   "execution_count": null,
   "id": "8bf6aa0b",
   "metadata": {},
   "outputs": [],
   "source": [
    "qiskit_circuit = qiskit.QuantumCircuit(2, 2)\n",
    "qiskit_circuit.h(0)\n",
    "qiskit_circuit.cx(0, 1)\n",
    "qiskit_circuit.measure([0, 1], [0, 1])\n",
    "\n",
    "CircuitWidget.from_qiskit(qiskit_circuit)"
   ]
  },
  {
   "cell_type": "markdown",
   "id": "b3b2651f",
   "metadata": {},
   "source": [
    "While it's not possible to directly add Pauli markers or other Crumble-specific instructions when creating `CircuitWidget`s with these methods, it is possible to read/write the resulting `CircuitWidget`'s `.stim` attribute to get the final converted Stim circuit (in string form), which can then be modified."
   ]
  }
 ],
 "metadata": {
  "kernelspec": {
   "display_name": "Python 3 (ipykernel)",
   "language": "python",
   "name": "python3"
  },
  "language_info": {
   "codemirror_mode": {
    "name": "ipython",
    "version": 3
   },
   "file_extension": ".py",
   "mimetype": "text/x-python",
   "name": "python",
   "nbconvert_exporter": "python",
   "pygments_lexer": "ipython3",
   "version": "3.13.3"
  }
 },
 "nbformat": 4,
 "nbformat_minor": 5
}
